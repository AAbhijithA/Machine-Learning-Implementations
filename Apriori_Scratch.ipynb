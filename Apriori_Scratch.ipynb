{
  "nbformat": 4,
  "nbformat_minor": 0,
  "metadata": {
    "colab": {
      "provenance": []
    },
    "kernelspec": {
      "name": "python3",
      "display_name": "Python 3"
    },
    "language_info": {
      "name": "python"
    }
  },
  "cells": [
    {
      "cell_type": "markdown",
      "source": [
        "Importing Necessary Libraries"
      ],
      "metadata": {
        "id": "U_3BwyDXJKE3"
      }
    },
    {
      "cell_type": "code",
      "execution_count": 39,
      "metadata": {
        "id": "S3mbywBuDeAm"
      },
      "outputs": [],
      "source": [
        "import pandas as pd"
      ]
    },
    {
      "cell_type": "markdown",
      "source": [
        "Preprocessing for transactions"
      ],
      "metadata": {
        "id": "TTft2pp8JNt3"
      }
    },
    {
      "cell_type": "code",
      "source": [
        "df = pd.read_csv('Market_Basket_Optimisation.csv',header=None)\n",
        "df = df.fillna(0)\n",
        "t = []\n",
        "for i in range(0,7501):\n",
        "    local_t = []\n",
        "    for j in range(0,20):\n",
        "        item = str(df.iloc[i,j])\n",
        "        if item == '0':\n",
        "            break\n",
        "        local_t.append(item)\n",
        "    t.append(local_t)"
      ],
      "metadata": {
        "id": "iBzHPNmNDqnc"
      },
      "execution_count": 40,
      "outputs": []
    },
    {
      "cell_type": "markdown",
      "source": [
        "Minimum Support User Input"
      ],
      "metadata": {
        "id": "v0gelAoiMdrr"
      }
    },
    {
      "cell_type": "code",
      "source": [
        "min_sup = int(input(\"Enter Minimum Support Value: \"))"
      ],
      "metadata": {
        "colab": {
          "base_uri": "https://localhost:8080/"
        },
        "id": "tmrLE0RsMR9A",
        "outputId": "c1d5daab-aafa-4acc-8f90-89109ec1e29b"
      },
      "execution_count": 41,
      "outputs": [
        {
          "name": "stdout",
          "output_type": "stream",
          "text": [
            "Enter Minimum Support Value: 100\n"
          ]
        }
      ]
    },
    {
      "cell_type": "markdown",
      "source": [
        "Functions for Apriori Algorithm"
      ],
      "metadata": {
        "id": "U5coQkDMJSgY"
      }
    },
    {
      "cell_type": "code",
      "source": [
        "def frequency_count(min_sup,t):\n",
        "    freq_count = {}\n",
        "    for i in range(0,len(t)):\n",
        "        unique = {}\n",
        "        for j in range(0,len(t[i])):\n",
        "            unique[t[i][j]] = 1\n",
        "        for key in unique:\n",
        "            try:\n",
        "                freq_count[key] += 1\n",
        "            except:\n",
        "                freq_count[key] = 1\n",
        "    return freq_count\n",
        "\n",
        "def Combination_Count(freq_count,min_sup,L,t):\n",
        "    new_freq_count = {}\n",
        "    for key1 in freq_count:\n",
        "        for key2 in freq_count:\n",
        "            l1 = key1.split(\",\")\n",
        "            l2 = key2.split(\",\")\n",
        "            unique = set(l1).union(set(l2))\n",
        "            unique = list(unique)\n",
        "            unique = sorted(unique)\n",
        "            itemList = \"\"\n",
        "            for item in unique:\n",
        "                if len(itemList) == 0:\n",
        "                    itemList = itemList + item\n",
        "                else:\n",
        "                    itemList = itemList + \",\" + item\n",
        "            if (itemList in new_freq_count) or (len(unique) != L):\n",
        "                continue\n",
        "            freq = 0\n",
        "            for i in range(0,len(t)):\n",
        "                checker = True\n",
        "                for item in unique:\n",
        "                    checker = checker and (item in t[i])\n",
        "                    if checker == False:\n",
        "                        break\n",
        "                if checker == True:\n",
        "                    freq += 1\n",
        "            if freq >= min_sup:\n",
        "                new_freq_count[itemList] = freq\n",
        "    return new_freq_count\n",
        "\n",
        "def Apriori(freq_count,min_sup,t):\n",
        "    L = 1\n",
        "    while(True):\n",
        "        L += 1\n",
        "        new_freq_count = Combination_Count(freq_count,min_sup,L,t)\n",
        "        if len(new_freq_count) == 0 :\n",
        "            break\n",
        "        freq_count = new_freq_count\n",
        "    return freq_count"
      ],
      "metadata": {
        "id": "x4zQvrU0Dw21"
      },
      "execution_count": 44,
      "outputs": []
    },
    {
      "cell_type": "markdown",
      "source": [
        "Running Apriori Operations"
      ],
      "metadata": {
        "id": "hbIPA8X-KKQE"
      }
    },
    {
      "cell_type": "code",
      "source": [
        "freq_count = frequency_count(min_sup,t)\n",
        "final_patterns = Apriori(freq_count,min_sup,t)"
      ],
      "metadata": {
        "id": "erGoxsDoGW07"
      },
      "execution_count": 45,
      "outputs": []
    },
    {
      "cell_type": "markdown",
      "source": [
        "Output for the patterns"
      ],
      "metadata": {
        "id": "HJhV195kCNsd"
      }
    },
    {
      "cell_type": "code",
      "source": [
        "print(\"Itemset : Minimum Support\")\n",
        "for key in final_patterns:\n",
        "    print(key + \" : \" + str(final_patterns[key]))"
      ],
      "metadata": {
        "colab": {
          "base_uri": "https://localhost:8080/"
        },
        "id": "sC5E2b6TRYg3",
        "outputId": "6c5b4b4a-9b7e-4fdd-c59c-db10ce969d36"
      },
      "execution_count": 47,
      "outputs": [
        {
          "output_type": "stream",
          "name": "stdout",
          "text": [
            "Itemset : Minimum Support\n",
            "eggs,mineral water,spaghetti : 107\n",
            "chocolate,eggs,mineral water : 101\n",
            "milk,mineral water,spaghetti : 118\n",
            "chocolate,milk,mineral water : 105\n",
            "chocolate,mineral water,spaghetti : 119\n",
            "ground beef,mineral water,spaghetti : 128\n"
          ]
        }
      ]
    }
  ]
}